{
 "cells": [
  {
   "cell_type": "code",
   "execution_count": 1,
   "id": "ef9facb4",
   "metadata": {},
   "outputs": [
    {
     "data": {
      "text/html": [
       "<style>.container { width:100% !important; }</style>"
      ],
      "text/plain": [
       "<IPython.core.display.HTML object>"
      ]
     },
     "metadata": {},
     "output_type": "display_data"
    }
   ],
   "source": [
    "import matplotlib.pyplot as plt\n",
    "import numpy as np\n",
    "import pandas as pd\n",
    "import os\n",
    "\n",
    "from IPython.core.display import display, HTML\n",
    "display(HTML(\"<style>.container { width:100% !important; }</style>\"))"
   ]
  },
  {
   "cell_type": "code",
   "execution_count": 2,
   "id": "773428b7",
   "metadata": {
    "scrolled": false
   },
   "outputs": [],
   "source": [
    "def plot_and_save_pie(y, mylabels, colors, myexplode):\n",
    "    plt.pie(y, labels = mylabels, explode = myexplode, shadow = True, colors=colors, autopct='%1.f%%')\n",
    "    plt.legend(loc='best', labels=mylabels, fontsize='large')\n",
    "    plt.suptitle('India vs Pakistan: T20 Head to Head', fontsize=12, fontweight='bold', x=0.5, y=0)\n",
    "    plt.tight_layout()\n",
    "    plt.savefig(r'C:\\Users\\Alok\\Desktop\\blog_images\\indvpak.jpeg')\n",
    "    plt.show()"
   ]
  },
  {
   "cell_type": "code",
   "execution_count": 3,
   "id": "6e8efbaa",
   "metadata": {},
   "outputs": [],
   "source": [
    "def compare(df, team1, team2, rankings):\n",
    "    try:\n",
    "        tempdf = df[(df.team1.isin([team1, team2]))&df.team2.isin([team1, team2])]\n",
    "        team1_win_prob = tempdf[tempdf.winner==team1].shape[0]/tempdf.shape[0]\n",
    "        team2_win_prob = tempdf[tempdf.winner==team2].shape[0]/tempdf.shape[0]\n",
    "    except:\n",
    "        if rankings[team1] < rankings[team2]:\n",
    "            return (1.0, 0.0)\n",
    "        else:\n",
    "            return (0.0, 1.0)\n",
    "    return team1_win_prob , team2_win_prob\n",
    "\n",
    "def get_winner(df, row, rankings):\n",
    "    p1, p2 = compare(df, row.team1, row.team2, rankings)\n",
    "    if p1>p2: return row.team1, p1\n",
    "    if p1<p2: return row.team2, p2\n",
    "    if p1 == p2:\n",
    "        if rankings[row.team1] < rankings[row.team2]:\n",
    "            return row.team1, 1.0\n",
    "        else:\n",
    "            return row.team2, 1.0\n",
    "    return"
   ]
  },
  {
   "cell_type": "code",
   "execution_count": 4,
   "id": "09830f97",
   "metadata": {},
   "outputs": [],
   "source": [
    "teams_2021 = [\"afghanistan\",\"australia\",\"bangladesh\",\"england\",\"india\",\"ireland\",\"namibia\",\"netherlands\",\"new zealand\",\\\n",
    "             \"oman\",\"pakistan\",\"papua new guinea\",\"scotland\",\"sri lanka\",\"west indies\"]"
   ]
  },
  {
   "cell_type": "code",
   "execution_count": 5,
   "id": "5ec032b1",
   "metadata": {},
   "outputs": [],
   "source": [
    "# loading dataset\n",
    "df = pd.read_csv(\"C:/Users/Alok/Downloads/dataset/espn_data/complete_data/t20_2005_2021.csv\")\n",
    "phase1 = pd.read_csv(\"C:/Users/Alok/Downloads/dataset/Pred_Circakathon_Zephyrus_16102021.csv\")\n",
    "\n",
    "# rankings\n",
    "rankings = pd.read_csv(\"C:/Users/Alok/Downloads/dataset/espn_data/complete_data/2021_t20_rankings.csv\")\n",
    "rankings = dict(zip(rankings['Team'].values, rankings['Pos'].values))\n",
    "\n",
    "# dropping off columns that wont be used going forward.\n",
    "df = df.drop(['match', 'ground'], axis=1)\n",
    "\n",
    "# considering only \"won\" matches.\n",
    "df = df[df.result == 'won']\n",
    "\n",
    "# removing leading and trailing spaces.\n",
    "df.team1 = df.team1.apply(lambda x: x.strip() if x!=None else np.nan)\n",
    "df.team2 = df.team2.apply(lambda x: x.strip() if x!=None else np.nan)"
   ]
  },
  {
   "cell_type": "code",
   "execution_count": 6,
   "id": "5b34881a",
   "metadata": {
    "scrolled": false
   },
   "outputs": [],
   "source": [
    "# creating team1 and team2 colummns\n",
    "phase1[['team1','team2']] = phase1.match.str.split(' vs ', expand=True)\n",
    "\n",
    "# removing leading and trailing spaces.\n",
    "phase1.team1 = phase1.team1.apply(lambda x: x.strip() if x!=None else np.nan)\n",
    "phase1.team2 = phase1.team2.apply(lambda x: x.strip() if x!=None else np.nan)\n",
    "\n",
    "phase1['prob'] = phase1.apply(lambda row : get_winner(df, row, rankings)[1], axis=1)\n",
    "phase1['winner'] = phase1.apply(lambda row : get_winner(df, row, rankings)[0], axis=1)"
   ]
  },
  {
   "cell_type": "code",
   "execution_count": 7,
   "id": "db6e2e41",
   "metadata": {},
   "outputs": [],
   "source": [
    "tempdf = df[df.team1.isin(['india', 'pakistan']) & df.team2.isin(['india', 'pakistan'])]"
   ]
  },
  {
   "cell_type": "code",
   "execution_count": 14,
   "id": "7e13eda9",
   "metadata": {},
   "outputs": [
    {
     "data": {
      "image/png": "[encoded data removed]",
      "text/plain": [
       "<Figure size 432x288 with 1 Axes>"
      ]
     },
     "metadata": {
      "needs_background": "light"
     },
     "output_type": "display_data"
    }
   ],
   "source": [
    "ind = tempdf[tempdf.team1 == 'india']\n",
    "pak = tempdf[tempdf.team1 == 'pakistan']\n",
    "ind.columns = [col.replace('team1','ind') if \"team1\" in col else col for col in ind.columns ]\n",
    "ind.columns = [col.replace('team2','pak') if \"team2\" in col else col for col in ind.columns ]\n",
    "pak.columns = [col.replace('team1','pak') if \"team1\" in col else col for col in pak.columns ]\n",
    "pak.columns = [col.replace('team2','ind') if \"team2\" in col else col for col in pak.columns ]\n",
    "ind = ind.rename(columns={'ind':'team1','pak':'team2'})\n",
    "pak = pak.rename(columns={'ind':'team1','pak':'team2'})\n",
    "indpak = pd.concat([ind,pak])\n",
    "indpak = indpak[set(indpak.columns)-set(['result', 'margin', 'start date', 'id', 'team1', 'team2'])]\n",
    "indpak = indpak.reset_index(drop=True)\n",
    "\n",
    "#\n",
    "indpak[\"match\"] = indpak.index+1"
   ]
  },
  {
   "cell_type": "code",
   "execution_count": 9,
   "id": "2a813a01",
   "metadata": {},
   "outputs": [],
   "source": [
    "# y = tempdf.winner.value_counts()\n",
    "# mylabels = [\"India\", \"Pakistan\"]\n",
    "# colors = [\"#4169E1\", \"#006400\"]\n",
    "# myexplode = [0, 0.1]\n",
    "# plot_and_save_pie(y, mylabels, colors, myexplode)"
   ]
  },
  {
   "cell_type": "code",
   "execution_count": 120,
   "id": "ec4f61e8",
   "metadata": {},
   "outputs": [],
   "source": [
    "phase2 = pd.read_csv(r\"C:/Users/Alok/Downloads/dataset/phase2.csv\")\n",
    "phase2.drop([\"Time\"], axis=1, inplace=True)\n",
    "phase2.Match = phase2.Match.apply(str.lower)\n",
    "phase2[['team1','team2']] = phase2.Match.str.split(\" vs \",expand=True)\n",
    "phase2['winner'] = phase2.apply(lambda row: get_winner(df, row, rankings)[0], axis=1)\n",
    "phase2['prob'] = phase2.apply(lambda row: round(get_winner(df, row, rankings)[1],2), axis=1)\n",
    "phase2.to_csv(\"C:/Users/Alok/Downloads/dataset/Pred_Circakathon_Zephyrus_23102021.csv\")"
   ]
  },
  {
   "cell_type": "code",
   "execution_count": 105,
   "id": "ecb74757",
   "metadata": {
    "scrolled": false
   },
   "outputs": [
    {
     "data": {
      "image/png": "[encoded data removed]",
      "text/plain": [
       "<Figure size 576x288 with 1 Axes>"
      ]
     },
     "metadata": {},
     "output_type": "display_data"
    }
   ],
   "source": [
    "# import seaborn as sns\n",
    "# sns.set_style(\"whitegrid\", {'axes.grid' : False})\n",
    "# t = indpak[['ind_30+','match','pak_30+']].melt('match')\n",
    "# t[\"team\"] = t.variable.apply(lambda x : 'India' if x.startswith('ind') else 'Pakistan')\n",
    "# g = sns.catplot(\n",
    "#     data=t, kind=\"bar\",\n",
    "#     x=\"match\", y=\"value\", hue=\"team\",legend=False,\n",
    "#     ci=\"sd\", palette=[\"#4169E1\",\"#006400\"], alpha=1, height=4, aspect=2,\n",
    "#     )\n",
    "# (g.despine(left=True)\n",
    "# .set(xlabel=None)\n",
    "# .set(ylabel=None)\n",
    "# .fig.suptitle('Number of players scored 30+',x=0.5,y=0))\n",
    "# plt.legend(loc='best')\n",
    "# g.savefig(r'C:\\Users\\Alok\\Desktop\\blog_images\\indvpak_30+.jpeg')"
   ]
  },
  {
   "cell_type": "code",
   "execution_count": 134,
   "id": "6327502c",
   "metadata": {},
   "outputs": [],
   "source": [
    "#phase2 = pd.read_csv(\"C:/Users/Alok/Downloads/dataset/Pred_Circakathon_Zephyrus_23102021.csv\")\n",
    "phase2 = pd.read_csv(r\"C:/Users/Alok/Downloads/dataset/vanilla_semi.csv\")\n",
    "phase2.drop([\"Time\"], axis=1, inplace=True)\n",
    "phase2.Match = phase2.Match.apply(str.lower)\n",
    "phase2[['team1','team2']] = phase2.Match.str.split(\" vs \",expand=True)\n",
    "phase2['winner'] = phase2.apply(lambda row: get_winner(df, row, rankings)[0], axis=1)\n",
    "phase2['prob'] = phase2.apply(lambda row: round(get_winner(df, row, rankings)[1],2), axis=1)\n",
    "#phase2.to_csv(\"C:/Users/Alok/Downloads/dataset/Pred_Circakathon_Zephyrus_23102021.csv\")"
   ]
  },
  {
   "cell_type": "code",
   "execution_count": 135,
   "id": "2b0cd5af",
   "metadata": {},
   "outputs": [
    {
     "data": {
      "text/html": [
       "<div>\n",
       "<style scoped>\n",
       "    .dataframe tbody tr th:only-of-type {\n",
       "        vertical-align: middle;\n",
       "    }\n",
       "\n",
       "    .dataframe tbody tr th {\n",
       "        vertical-align: top;\n",
       "    }\n",
       "\n",
       "    .dataframe thead th {\n",
       "        text-align: right;\n",
       "    }\n",
       "</style>\n",
       "<table border=\"1\" class=\"dataframe\">\n",
       "  <thead>\n",
       "    <tr style=\"text-align: right;\">\n",
       "      <th></th>\n",
       "      <th>Date</th>\n",
       "      <th>Match</th>\n",
       "      <th>team1</th>\n",
       "      <th>team2</th>\n",
       "      <th>winner</th>\n",
       "      <th>prob</th>\n",
       "    </tr>\n",
       "  </thead>\n",
       "  <tbody>\n",
       "    <tr>\n",
       "      <th>0</th>\n",
       "      <td>10-11-2021</td>\n",
       "      <td>australia vs pakistan</td>\n",
       "      <td>australia</td>\n",
       "      <td>pakistan</td>\n",
       "      <td>pakistan</td>\n",
       "      <td>0.57</td>\n",
       "    </tr>\n",
       "    <tr>\n",
       "      <th>1</th>\n",
       "      <td>11-11-2021</td>\n",
       "      <td>india vs west indies</td>\n",
       "      <td>india</td>\n",
       "      <td>west indies</td>\n",
       "      <td>india</td>\n",
       "      <td>0.62</td>\n",
       "    </tr>\n",
       "  </tbody>\n",
       "</table>\n",
       "</div>"
      ],
      "text/plain": [
       "         Date                  Match      team1        team2    winner  prob\n",
       "0  10-11-2021  australia vs pakistan  australia     pakistan  pakistan  0.57\n",
       "1  11-11-2021   india vs west indies      india  west indies     india  0.62"
      ]
     },
     "execution_count": 135,
     "metadata": {},
     "output_type": "execute_result"
    }
   ],
   "source": [
    "phase2"
   ]
  },
  {
   "cell_type": "code",
   "execution_count": 136,
   "id": "bf7f2c36",
   "metadata": {},
   "outputs": [],
   "source": [
    "#phase2 = pd.read_csv(\"C:/Users/Alok/Downloads/dataset/Pred_Circakathon_Zephyrus_23102021.csv\")\n",
    "phase2 = pd.read_csv(r\"C:/Users/Alok/Downloads/dataset/final.csv\")\n",
    "phase2.drop([\"Time\"], axis=1, inplace=True)\n",
    "phase2.Match = phase2.Match.apply(str.lower)\n",
    "phase2[['team1','team2']] = phase2.Match.str.split(\" vs \",expand=True)\n",
    "phase2['winner'] = phase2.apply(lambda row: get_winner(df, row, rankings)[0], axis=1)\n",
    "phase2['prob'] = phase2.apply(lambda row: round(get_winner(df, row, rankings)[1],2), axis=1)\n",
    "#phase2.to_csv(\"C:/Users/Alok/Downloads/dataset/Pred_Circakathon_Zephyrus_23102021.csv\")"
   ]
  },
  {
   "cell_type": "code",
   "execution_count": 137,
   "id": "001decae",
   "metadata": {},
   "outputs": [
    {
     "data": {
      "text/html": [
       "<div>\n",
       "<style scoped>\n",
       "    .dataframe tbody tr th:only-of-type {\n",
       "        vertical-align: middle;\n",
       "    }\n",
       "\n",
       "    .dataframe tbody tr th {\n",
       "        vertical-align: top;\n",
       "    }\n",
       "\n",
       "    .dataframe thead th {\n",
       "        text-align: right;\n",
       "    }\n",
       "</style>\n",
       "<table border=\"1\" class=\"dataframe\">\n",
       "  <thead>\n",
       "    <tr style=\"text-align: right;\">\n",
       "      <th></th>\n",
       "      <th>Date</th>\n",
       "      <th>Match</th>\n",
       "      <th>team1</th>\n",
       "      <th>team2</th>\n",
       "      <th>winner</th>\n",
       "      <th>prob</th>\n",
       "    </tr>\n",
       "  </thead>\n",
       "  <tbody>\n",
       "    <tr>\n",
       "      <th>0</th>\n",
       "      <td>14-11-2021</td>\n",
       "      <td>india vs pakistan</td>\n",
       "      <td>india</td>\n",
       "      <td>pakistan</td>\n",
       "      <td>india</td>\n",
       "      <td>0.86</td>\n",
       "    </tr>\n",
       "  </tbody>\n",
       "</table>\n",
       "</div>"
      ],
      "text/plain": [
       "         Date              Match  team1     team2 winner  prob\n",
       "0  14-11-2021  india vs pakistan  india  pakistan  india  0.86"
      ]
     },
     "execution_count": 137,
     "metadata": {},
     "output_type": "execute_result"
    }
   ],
   "source": [
    "phase2"
   ]
  },
  {
   "cell_type": "code",
   "execution_count": null,
   "id": "acc15d70",
   "metadata": {},
   "outputs": [],
   "source": []
  }
 ],
 "metadata": {
  "kernelspec": {
   "display_name": "Python 3 (ipykernel)",
   "language": "python",
   "name": "python3"
  },
  "language_info": {
   "codemirror_mode": {
    "name": "ipython",
    "version": 3
   },
   "file_extension": ".py",
   "mimetype": "text/x-python",
   "name": "python",
   "nbconvert_exporter": "python",
   "pygments_lexer": "ipython3",
   "version": "3.9.7"
  }
 },
 "nbformat": 4,
 "nbformat_minor": 5
}
