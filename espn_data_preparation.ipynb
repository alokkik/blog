{
 "cells": [
  {
   "cell_type": "code",
   "execution_count": 45,
   "id": "def15fd6",
   "metadata": {},
   "outputs": [
    {
     "data": {
      "text/html": [
       "<style>.container { width:100% !important; }</style>"
      ],
      "text/plain": [
       "<IPython.core.display.HTML object>"
      ]
     },
     "metadata": {},
     "output_type": "display_data"
    }
   ],
   "source": [
    "import pandas as pd\n",
    "import numpy as np\n",
    "import os\n",
    "from IPython.core.display import display, HTML\n",
    "display(HTML(\"<style>.container { width:100% !important; }</style>\"))"
   ]
  },
  {
   "cell_type": "code",
   "execution_count": 46,
   "id": "ca7a6fc3",
   "metadata": {},
   "outputs": [],
   "source": [
    "path = r\"C:\\Users\\Alok\\Downloads\\dataset\\espn_data\""
   ]
  },
  {
   "cell_type": "code",
   "execution_count": 47,
   "id": "211ae1a0",
   "metadata": {},
   "outputs": [],
   "source": [
    "def derive_batting_features(batdf, _id):\n",
    "    col_list=[]\n",
    "    val = []\n",
    "    for _team in batdf.team.unique():\n",
    "        tempdf = batdf[batdf.team == _team]\n",
    "        tempdf = tempdf.apply(pd.to_numeric, errors='coerce')\n",
    "        col_list.extend([item%_team for item in ['%s_30+','%s_balls','%s_4s','%s_6s','%s_sr','%s_run_rate']])\n",
    "        val.append(tempdf[tempdf['r']>=30]['r'].count())\n",
    "        val.append(tempdf.b.sum())\n",
    "        val.append(tempdf['4s'].sum())\n",
    "        val.append(tempdf['6s'].sum())\n",
    "        val.append(tempdf[tempdf['sr']>100]['sr'].count())\n",
    "        val.append(tempdf.iloc[0]['run_rate'])\n",
    "    return dict(zip([\"id\"]+col_list,[_id]+val))\n",
    "\n",
    "def derive_bowling_features(bowldf, _id):\n",
    "    col_list = []\n",
    "    val = []\n",
    "    for _team in bowldf.team.unique():\n",
    "        tempdf = bowldf[bowldf.team == _team]\n",
    "        tempdf = tempdf.apply(pd.to_numeric, errors='coerce')\n",
    "        col_list.extend([item%_team for item in ['%s_econ','%s_dots','%s_wd','%s_nb']])\n",
    "        val.append(tempdf['econ'].mean())\n",
    "        val.append(tempdf['0s'].sum())\n",
    "        val.append(tempdf['wd'].sum())\n",
    "        val.append(tempdf['nb'].sum())\n",
    "    return dict(zip([\"id\"]+col_list,[_id]+val))\n",
    "\n",
    "def check_team1(row):\n",
    "    if row.result == 'won':\n",
    "        _list = row.match.split(' v ')\n",
    "        _list.remove(row.winner)\n",
    "        if \"run\" in row.margin:\n",
    "            return row.winner\n",
    "        else:\n",
    "            return _list[0]\n",
    "    return None\n",
    "\n",
    "def check_team2(row):\n",
    "    if row.result == 'won':\n",
    "        _list = row.match.split(' v ')\n",
    "        _list.remove(row.winner)\n",
    "        if \"run\" in row.margin:\n",
    "            return _list[0]\n",
    "        else:\n",
    "            return row.winner\n",
    "    return None"
   ]
  },
  {
   "cell_type": "code",
   "execution_count": 48,
   "id": "523e2424",
   "metadata": {
    "scrolled": false
   },
   "outputs": [],
   "source": [
    "finaldf = pd.DataFrame()\n",
    "for file in os.listdir(path):\n",
    "    if os.path.isfile(os.path.join(path,file)):\n",
    "        tempdf = pd.read_csv(os.path.join(path,file))\n",
    "        list_of_values = []\n",
    "        tempdf['team1'] = tempdf.apply(lambda row: check_team1(row), axis=1)\n",
    "        tempdf['team2'] = tempdf.apply(lambda row: check_team2(row), axis=1)\n",
    "        for index, row in tempdf.iterrows():\n",
    "            try:\n",
    "                batdf = pd.read_csv(os.path.join(path,\"bat\",\"bat_%s.csv\"%row.id))\n",
    "                bowldf = pd.read_csv(os.path.join(path,\"bowl\",\"bow_%s.csv\"%row.id))\n",
    "                list_of_values.append(derive_batting_features(batdf,row.id)|derive_bowling_features(bowldf,row.id))\n",
    "            except:\n",
    "                pass\n",
    "        tempdf = tempdf.merge(pd.DataFrame(list_of_values),left_on=\"id\",right_on=\"id\",how='left')\n",
    "        finaldf = pd.concat([finaldf,tempdf])\n",
    "finaldf.to_csv(r\"C:\\Users\\Alok\\Downloads\\dataset\\espn_data\\complete_data\\t20_2005_2021.csv\")"
   ]
  },
  {
   "cell_type": "code",
   "execution_count": null,
   "id": "5333a684",
   "metadata": {},
   "outputs": [],
   "source": []
  }
 ],
 "metadata": {
  "kernelspec": {
   "display_name": "Python 3 (ipykernel)",
   "language": "python",
   "name": "python3"
  },
  "language_info": {
   "codemirror_mode": {
    "name": "ipython",
    "version": 3
   },
   "file_extension": ".py",
   "mimetype": "text/x-python",
   "name": "python",
   "nbconvert_exporter": "python",
   "pygments_lexer": "ipython3",
   "version": "3.9.7"
  }
 },
 "nbformat": 4,
 "nbformat_minor": 5
}
